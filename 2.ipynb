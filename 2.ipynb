{
 "cells": [
  {
   "cell_type": "code",
   "execution_count": 1,
   "metadata": {},
   "outputs": [
    {
     "data": {
      "text/plain": [
       "True"
      ]
     },
     "execution_count": 1,
     "metadata": {},
     "output_type": "execute_result"
    }
   ],
   "source": [
    "import os \n",
    "from dotenv import load_dotenv \n",
    "load_dotenv()"
   ]
  },
  {
   "cell_type": "code",
   "execution_count": 2,
   "metadata": {},
   "outputs": [
    {
     "name": "stderr",
     "output_type": "stream",
     "text": [
      "c:\\Users\\91912\\AppData\\Local\\Programs\\Python\\Python312\\Lib\\site-packages\\tqdm\\auto.py:21: TqdmWarning: IProgress not found. Please update jupyter and ipywidgets. See https://ipywidgets.readthedocs.io/en/stable/user_install.html\n",
      "  from .autonotebook import tqdm as notebook_tqdm\n"
     ]
    }
   ],
   "source": [
    "import google.generativeai as genai \n",
    "genai.configure()\n"
   ]
  },
  {
   "cell_type": "code",
   "execution_count": 4,
   "metadata": {},
   "outputs": [],
   "source": [
    "model=genai.GenerativeModel(\"gemini-pro\")"
   ]
  },
  {
   "cell_type": "code",
   "execution_count": 7,
   "metadata": {},
   "outputs": [],
   "source": [
    "reponse=model.generate_content(\"tell me something about the avengers\",generation_config=genai.types.GenerationConfig(candidate_count=1,stop_sequences=[\"a\"],max_output_tokens=20,temperature=1.0))"
   ]
  },
  {
   "cell_type": "code",
   "execution_count": 8,
   "metadata": {},
   "outputs": [
    {
     "data": {
      "text/plain": [
       "'**The Avengers**\\n\\n**Overview:**\\n\\nThe Avengers is '"
      ]
     },
     "execution_count": 8,
     "metadata": {},
     "output_type": "execute_result"
    }
   ],
   "source": [
    "reponse.text"
   ]
  },
  {
   "cell_type": "code",
   "execution_count": 20,
   "metadata": {},
   "outputs": [],
   "source": [
    "chat=model.start_chat()\n",
    "response=chat.send_message(\"tell me about the india\")\n"
   ]
  },
  {
   "cell_type": "code",
   "execution_count": 11,
   "metadata": {},
   "outputs": [
    {
     "data": {
      "text/plain": [
       "\"**India**\\n\\n**Geography:**\\n\\n* Area: 3.287 million square kilometers\\n* Location: South Asia, bordered by Pakistan, China, Nepal, Bhutan, Bangladesh, and Myanmar\\n* Landscape: Diverse, including the Himalayas, the Thar Desert, the Ganga River Basin, and the Deccan Plateau\\n* Major rivers: Ganga, Indus, Brahmaputra\\n\\n**Demographics:**\\n\\n* Population: 1.4 billion (2023; second most populous country in the world)\\n* Languages: Hindi (official), English (official), and 22 other official regional languages\\n* Religions: Hinduism (79.8%), Islam (14.2%), Christianity (2.3%), Sikhism (1.9%), Buddhism (0.8%), Jainism (0.4%)\\n\\n**History:**\\n\\n* Ancient civilization in the Indus Valley (c. 2600-1900 BCE)\\n* Maurya Empire (c. 322-185 BCE)\\n* Gupta Empire (c. 320-550 CE)\\n* Muslim invasions and rule (12th-16th centuries)\\n* Mughal Empire (1526-1858)\\n* British colonization (1757-1947)\\n* Independence in 1947\\n\\n**Politics:**\\n\\n* Parliamentary democracy\\n* Prime Minister: Narendra Modi\\n* President: Droupadi Murmu\\n* Legislature: Parliament of India, consisting of the Lok Sabha (lower house) and Rajya Sabha (upper house)\\n\\n**Economy:**\\n\\n* Seventh largest economy in the world by nominal GDP\\n* Growing services sector, particularly in IT, outsourcing, and telecommunications\\n* Major industries include textiles, pharmaceuticals, cement, and steel\\n* Agriculture remains a significant sector, employing over half of the workforce\\n\\n**Culture:**\\n\\n* Rich and diverse, shaped by multiple influences\\n* Bollywood (Hindi cinema) is a major cultural export\\n* Traditional arts include music, dance, painting, and sculpture\\n* Religions and festivals play an important role in everyday life\\n\\n**Other Notable Facts:**\\n\\n* Home to the world's highest mountain, Mount Everest\\n* The only country that has a leap second offset\\n* Has the largest postal network in the world\\n* Is the world's largest producer of mangoes and bananas\\n* Known for its vibrant and colorful textiles and embroidery\""
      ]
     },
     "execution_count": 11,
     "metadata": {},
     "output_type": "execute_result"
    }
   ],
   "source": [
    "response.text"
   ]
  },
  {
   "cell_type": "code",
   "execution_count": 26,
   "metadata": {},
   "outputs": [],
   "source": [
    "chat=model.start_chat(\n",
    "    history=[\n",
    "       \n",
    "    ]\n",
    ")"
   ]
  },
  {
   "cell_type": "code",
   "execution_count": 27,
   "metadata": {},
   "outputs": [],
   "source": [
    "response=chat.send_message(\"tell me about the computers\",stream=True)\n"
   ]
  },
  {
   "cell_type": "code",
   "execution_count": 30,
   "metadata": {},
   "outputs": [],
   "source": [
    "response.resolve()"
   ]
  },
  {
   "cell_type": "code",
   "execution_count": 31,
   "metadata": {},
   "outputs": [
    {
     "data": {
      "text/plain": [
       "'**Computers**\\n\\nComputers are electronic devices that can receive, process, and store data. They are essential to our modern world, and they are used in almost every aspect of our lives.\\n\\n**Types of Computers**\\n\\nThere are many different types of computers, including:\\n\\n* **Desktop computers** are designed to be used on a desk or other flat surface. They are typically more powerful than other types of computers, and they can be used for a wide variety of tasks.\\n* **Laptop computers** are portable computers that can be easily carried from place to place. They are less powerful than desktop computers, but they are still capable of performing most tasks.\\n* **Tablet computers** are even more portable than laptop computers. They are typically equipped with a touchscreen, and they can be used for a variety of tasks, including browsing the web, reading books, and playing games.\\n* **Smartphones** are mobile phones that are equipped with a wide range of features, including the ability to surf the web, send email, and play games.\\n* **Embedded computers** are computers that are built into other devices, such as cars, appliances, and medical equipment. They are typically used to control the device or to perform specific tasks.\\n\\n**Components of a Computer**\\n\\nThe basic components of a computer include:\\n\\n* **Central processing unit (CPU)** is the brain of the computer. It controls the other components of the computer and executes instructions.\\n* **Memory** stores data and instructions.\\n* **Storage devices** store data permanently.\\n* **Input devices** allow the user to enter data into the computer.\\n* **Output devices** allow the computer to display or print data.\\n\\n**How Computers Work**\\n\\nComputers work by following instructions. These instructions are stored in memory, and they are executed by the CPU. The CPU reads the instructions one by one, and it performs the operations that are specified by the instructions.\\n\\n**History of Computers**\\n\\nThe first computers were developed in the early 1940s. These computers were very large and expensive, and they were only used for specialized tasks. Over time, computers have become smaller, cheaper, and more powerful. Today, computers are used in almost every aspect of our lives.\\n\\n**Applications of Computers**\\n\\nComputers are used in a wide variety of applications, including:\\n\\n* **Business** - Computers are used to manage data, create reports, and communicate with customers and employees.\\n* **Education** - Computers are used to teach students, provide access to educational resources, and manage school records.\\n* **Healthcare** - Computers are used to diagnose diseases, track patient records, and manage medical equipment.\\n* **Government** - Computers are used to manage government operations, track citizen records, and provide public services.\\n* **Entertainment** - Computers are used to play games, watch movies, and listen to music.\\n\\nComputers have revolutionized our world. They have made it possible to do things that were once impossible, and they have made our lives easier and more convenient.'"
      ]
     },
     "execution_count": 31,
     "metadata": {},
     "output_type": "execute_result"
    }
   ],
   "source": [
    "response.text"
   ]
  },
  {
   "cell_type": "code",
   "execution_count": 33,
   "metadata": {},
   "outputs": [
    {
     "data": {
      "text/plain": [
       "[parts {\n",
       "   text: \"tell me about the computers\"\n",
       " }\n",
       " role: \"user\",\n",
       " parts {\n",
       "   text: \"**Computers**\\n\\nComputers are electronic devices that can receive, process, and store data. They are essential to our modern world, and they are used in almost every aspect of our lives.\\n\\n**Types of Computers**\\n\\nThere are many different types of computers, including:\\n\\n* **Desktop computers** are designed to be used on a desk or other flat surface. They are typically more powerful than other types of computers, and they can be used for a wide variety of tasks.\\n* **Laptop computers** are portable computers that can be easily carried from place to place. They are less powerful than desktop computers, but they are still capable of performing most tasks.\\n* **Tablet computers** are even more portable than laptop computers. They are typically equipped with a touchscreen, and they can be used for a variety of tasks, including browsing the web, reading books, and playing games.\\n* **Smartphones** are mobile phones that are equipped with a wide range of features, including the ability to surf the web, send email, and play games.\\n* **Embedded computers** are computers that are built into other devices, such as cars, appliances, and medical equipment. They are typically used to control the device or to perform specific tasks.\\n\\n**Components of a Computer**\\n\\nThe basic components of a computer include:\\n\\n* **Central processing unit (CPU)** is the brain of the computer. It controls the other components of the computer and executes instructions.\\n* **Memory** stores data and instructions.\\n* **Storage devices** store data permanently.\\n* **Input devices** allow the user to enter data into the computer.\\n* **Output devices** allow the computer to display or print data.\\n\\n**How Computers Work**\\n\\nComputers work by following instructions. These instructions are stored in memory, and they are executed by the CPU. The CPU reads the instructions one by one, and it performs the operations that are specified by the instructions.\\n\\n**History of Computers**\\n\\nThe first computers were developed in the early 1940s. These computers were very large and expensive, and they were only used for specialized tasks. Over time, computers have become smaller, cheaper, and more powerful. Today, computers are used in almost every aspect of our lives.\\n\\n**Applications of Computers**\\n\\nComputers are used in a wide variety of applications, including:\\n\\n* **Business** - Computers are used to manage data, create reports, and communicate with customers and employees.\\n* **Education** - Computers are used to teach students, provide access to educational resources, and manage school records.\\n* **Healthcare** - Computers are used to diagnose diseases, track patient records, and manage medical equipment.\\n* **Government** - Computers are used to manage government operations, track citizen records, and provide public services.\\n* **Entertainment** - Computers are used to play games, watch movies, and listen to music.\\n\\nComputers have revolutionized our world. They have made it possible to do things that were once impossible, and they have made our lives easier and more convenient.\"\n",
       " }\n",
       " role: \"model\"]"
      ]
     },
     "execution_count": 33,
     "metadata": {},
     "output_type": "execute_result"
    }
   ],
   "source": [
    "chat.history"
   ]
  }
 ],
 "metadata": {
  "kernelspec": {
   "display_name": "Python 3",
   "language": "python",
   "name": "python3"
  },
  "language_info": {
   "codemirror_mode": {
    "name": "ipython",
    "version": 3
   },
   "file_extension": ".py",
   "mimetype": "text/x-python",
   "name": "python",
   "nbconvert_exporter": "python",
   "pygments_lexer": "ipython3",
   "version": "3.12.4"
  }
 },
 "nbformat": 4,
 "nbformat_minor": 2
}
